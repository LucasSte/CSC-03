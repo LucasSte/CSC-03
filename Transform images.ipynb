{
 "cells": [
  {
   "cell_type": "code",
   "execution_count": 38,
   "metadata": {},
   "outputs": [],
   "source": [
    "import cv2\n",
    "import os\n",
    "import glob"
   ]
  },
  {
   "cell_type": "code",
   "execution_count": 37,
   "metadata": {},
   "outputs": [
    {
     "name": "stdout",
     "output_type": "stream",
     "text": [
      "/home/lucas/Documents/CSC-03/CSC-03\n"
     ]
    }
   ],
   "source": [
    "cur_path = os.getcwd()\n",
    "print(cur_path)"
   ]
  },
  {
   "cell_type": "code",
   "execution_count": 44,
   "metadata": {},
   "outputs": [],
   "source": [
    "def resizeImages(path):\n",
    "    files_list = glob.glob(path + \"/*.png\")\n",
    "    new_path = path + \"/resized\"\n",
    "    i = 1\n",
    "    for file in files_list:\n",
    "        img = cv2.imread(file)\n",
    "        img = img[200:1000, 350:1850]\n",
    "        cv2.imwrite(new_path + \"/\" + str(i) + \".png\", img)\n",
    "        i += 1"
   ]
  },
  {
   "cell_type": "code",
   "execution_count": 46,
   "metadata": {},
   "outputs": [],
   "source": [
    "resizeImages(cur_path + \"/CNN/Healthy\")\n",
    "resizeImages(cur_path + \"/CNN/Sick\")"
   ]
  },
  {
   "cell_type": "code",
   "execution_count": 65,
   "metadata": {},
   "outputs": [],
   "source": [
    "def cutImages(path):\n",
    "    files_list = glob.glob(path + \"/*.png\")\n",
    "    new_path = path + \"/final\"\n",
    "    n = 1\n",
    "    for file in files_list:\n",
    "        img = cv2.imread(file)\n",
    "        for i in range(0, 11):\n",
    "            for j in range(0, 6):\n",
    "                xi = 128*i\n",
    "                xf = xi + 128\n",
    "                yi = 128*j\n",
    "                yf = yi + 128\n",
    "                final = img[yi:yf, xi:xf]\n",
    "                cv2.imwrite(new_path + \"/\" + str(n) + \".png\", final)\n",
    "                n +=1"
   ]
  },
  {
   "cell_type": "code",
   "execution_count": 67,
   "metadata": {},
   "outputs": [],
   "source": [
    "cutImages(cur_path + \"/CNN/Healthy/resized\")\n",
    "cutImages(cur_path + \"/CNN/Sick/resized\")"
   ]
  },
  {
   "cell_type": "code",
   "execution_count": null,
   "metadata": {},
   "outputs": [],
   "source": [
    "x = list()"
   ]
  }
 ],
 "metadata": {
  "kernelspec": {
   "display_name": "Python 3",
   "language": "python",
   "name": "python3"
  },
  "language_info": {
   "codemirror_mode": {
    "name": "ipython",
    "version": 3
   },
   "file_extension": ".py",
   "mimetype": "text/x-python",
   "name": "python",
   "nbconvert_exporter": "python",
   "pygments_lexer": "ipython3",
   "version": "3.7.7"
  }
 },
 "nbformat": 4,
 "nbformat_minor": 4
}

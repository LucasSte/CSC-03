{
 "cells": [
  {
   "cell_type": "code",
   "execution_count": null,
   "metadata": {},
   "outputs": [],
   "source": [
    "import os\n",
    "os.environ[\"CUDA_VISIBLE_DEVICES\"] = \"0\""
   ]
  },
  {
   "cell_type": "code",
   "execution_count": 2,
   "metadata": {},
   "outputs": [
    {
     "name": "stderr",
     "output_type": "stream",
     "text": [
      "Using TensorFlow backend.\n"
     ]
    }
   ],
   "source": [
    "import tensorflow as tf\n",
    "from keras import layers\n",
    "from keras.layers import Input, Dense, Activation, ZeroPadding2D, BatchNormalization, Flatten, Conv2D\n",
    "from keras.layers import AveragePooling2D, MaxPooling2D, Dropout, GlobalMaxPooling2D, GlobalAveragePooling2D\n",
    "from keras.layers import Reshape, Flatten, Lambda\n",
    "from keras.layers.advanced_activations import LeakyReLU\n",
    "from keras.activations import sigmoid\n",
    "from keras.layers.merge import concatenate\n",
    "from keras.models import Model\n",
    "from keras.preprocessing import image\n",
    "from keras.utils import layer_utils\n",
    "from keras.utils.data_utils import get_file\n",
    "from keras.applications.imagenet_utils import preprocess_input\n",
    "from keras.utils.vis_utils import model_to_dot\n",
    "from keras.utils import plot_model\n",
    "from keras.optimizers import SGD, Adam, RMSprop\n",
    "#from kt_utils import *\n",
    "\n",
    "import keras.backend as K\n",
    "K.set_image_data_format('channels_last')"
   ]
  },
  {
   "cell_type": "code",
   "execution_count": 15,
   "metadata": {},
   "outputs": [],
   "source": [
    "import numpy as np\n",
    "import glob\n",
    "import cv2"
   ]
  },
  {
   "cell_type": "code",
   "execution_count": 132,
   "metadata": {},
   "outputs": [],
   "source": [
    "def TreeColor(input_size1, input_size2):\n",
    "    input_image = Input(shape=(input_size1, input_size2, 3))\n",
    "        \n",
    "    # Layer 1\n",
    "    x = Conv2D(4, (3,3), strides=(1,1), padding='same', name='conv_1', use_bias=False)(input_image)\n",
    "    x = BatchNormalization(name='norm_1')(x)\n",
    "    x = LeakyReLU(alpha=0.1)(x)\n",
    "    x = MaxPooling2D(pool_size=(4, 4))(x)\n",
    "\n",
    "    #Layer 2\n",
    "    x = Flatten()(x)\n",
    "    x = Dense(16)(x)\n",
    "    x = Dense(8)(x)\n",
    "    x = Dense(4)(x)\n",
    "    x = Dense(1)(x)\n",
    "\n",
    "    \n",
    "    model = Model(inputs = input_image, outputs=x, name='TreeColor')\n",
    "    \n",
    "    return model\n",
    "    "
   ]
  },
  {
   "cell_type": "code",
   "execution_count": 138,
   "metadata": {},
   "outputs": [
    {
     "name": "stdout",
     "output_type": "stream",
     "text": [
      "Model: \"TreeColor\"\n",
      "_________________________________________________________________\n",
      "Layer (type)                 Output Shape              Param #   \n",
      "=================================================================\n",
      "input_29 (InputLayer)        (None, 128, 128, 3)       0         \n",
      "_________________________________________________________________\n",
      "conv_1 (Conv2D)              (None, 128, 128, 4)       108       \n",
      "_________________________________________________________________\n",
      "norm_1 (BatchNormalization)  (None, 128, 128, 4)       16        \n",
      "_________________________________________________________________\n",
      "leaky_re_lu_77 (LeakyReLU)   (None, 128, 128, 4)       0         \n",
      "_________________________________________________________________\n",
      "max_pooling2d_77 (MaxPooling (None, 32, 32, 4)         0         \n",
      "_________________________________________________________________\n",
      "flatten_8 (Flatten)          (None, 4096)              0         \n",
      "_________________________________________________________________\n",
      "dense_25 (Dense)             (None, 16)                65552     \n",
      "_________________________________________________________________\n",
      "dense_26 (Dense)             (None, 8)                 136       \n",
      "_________________________________________________________________\n",
      "dense_27 (Dense)             (None, 4)                 36        \n",
      "_________________________________________________________________\n",
      "dense_28 (Dense)             (None, 1)                 5         \n",
      "=================================================================\n",
      "Total params: 65,853\n",
      "Trainable params: 65,845\n",
      "Non-trainable params: 8\n",
      "_________________________________________________________________\n"
     ]
    }
   ],
   "source": [
    "net = TreeColor(128, 128)\n",
    "net.summary()"
   ]
  },
  {
   "cell_type": "code",
   "execution_count": 115,
   "metadata": {},
   "outputs": [],
   "source": [
    "def cost_func(y_true, y_pred):\n",
    "    #sig_pred = tf.sigmoid(y_pred)\n",
    "    #return tf.square(y_true - sig_pred)*10\n",
    "    return tf.nn.sigmoid_cross_entropy_with_logits(labels=y_true, logits=y_pred)"
   ]
  },
  {
   "cell_type": "code",
   "execution_count": 19,
   "metadata": {},
   "outputs": [],
   "source": [
    "def load(path):\n",
    "    list_of_files = glob.glob(path + \"/True/*.png\")\n",
    "    x = list()\n",
    "    y = list()\n",
    "    for file in list_of_files:\n",
    "        img = cv2.imread(file)\n",
    "        img = cv2.cvtColor(img, cv2.COLOR_BGR2RGB)\n",
    "        x.append(img)\n",
    "        y.append(1)\n",
    "    \n",
    "    list_of_files = glob.glob(path + \"/False/*.png\")\n",
    "    for file in list_of_files:\n",
    "        img = cv2.imread(file)\n",
    "        img = cv2.cvtColor(img, cv2.COLOR_BGR2RGB)\n",
    "        x.append(img)\n",
    "        y.append(0)\n",
    "    X = np.array(x)\n",
    "    X = X.astype(float)\n",
    "    X = X / 255\n",
    "    Y = np.array(y)\n",
    "    \n",
    "    indices = np.arange(Y.shape[0])\n",
    "    np.random.shuffle(indices)\n",
    "    X = X[indices]\n",
    "    Y = Y[indices]\n",
    "    \n",
    "    return X, Y"
   ]
  },
  {
   "cell_type": "code",
   "execution_count": 11,
   "metadata": {},
   "outputs": [],
   "source": [
    "cur_path = os.getcwd()"
   ]
  },
  {
   "cell_type": "code",
   "execution_count": 23,
   "metadata": {},
   "outputs": [],
   "source": [
    "x_train, y_train = load(cur_path + \"/CNN/Training\")\n",
    "x_val, y_val = load(cur_path + \"/CNN/Validation\")"
   ]
  },
  {
   "cell_type": "code",
   "execution_count": 24,
   "metadata": {},
   "outputs": [
    {
     "name": "stdout",
     "output_type": "stream",
     "text": [
      "(1724, 128, 128, 3)\n",
      "(1724,)\n",
      "(146, 128, 128, 3)\n",
      "(146,)\n"
     ]
    }
   ],
   "source": [
    "print(x_train.shape)\n",
    "print(y_train.shape)\n",
    "\n",
    "print(x_val.shape)\n",
    "print(y_val.shape)"
   ]
  },
  {
   "cell_type": "code",
   "execution_count": 25,
   "metadata": {},
   "outputs": [],
   "source": [
    "optimizer = Adam (lr=0.5e-4, beta_1=0.9, beta_2=0.999, epsilon=1e-08, decay=0.0)\n",
    "from keras.losses import mean_squared_error"
   ]
  },
  {
   "cell_type": "code",
   "execution_count": 139,
   "metadata": {},
   "outputs": [
    {
     "name": "stdout",
     "output_type": "stream",
     "text": [
      "Train on 1724 samples, validate on 146 samples\n",
      "Epoch 1/15\n",
      "1724/1724 [==============================] - 4s 3ms/step - loss: 0.1431 - val_loss: 0.1387\n",
      "Epoch 2/15\n",
      "1724/1724 [==============================] - 3s 2ms/step - loss: 0.1015 - val_loss: 0.0639\n",
      "Epoch 3/15\n",
      "1724/1724 [==============================] - 3s 2ms/step - loss: 0.1009 - val_loss: 0.0289\n",
      "Epoch 4/15\n",
      "1724/1724 [==============================] - 3s 2ms/step - loss: 0.0911 - val_loss: 0.0205\n",
      "Epoch 5/15\n",
      "1724/1724 [==============================] - 3s 2ms/step - loss: 0.0913 - val_loss: 0.0229\n",
      "Epoch 6/15\n",
      "1724/1724 [==============================] - 3s 2ms/step - loss: 0.0611 - val_loss: 0.0238\n",
      "Epoch 7/15\n",
      "1724/1724 [==============================] - 3s 2ms/step - loss: 0.0605 - val_loss: 0.0276\n",
      "Epoch 8/15\n",
      "1724/1724 [==============================] - 3s 2ms/step - loss: 0.0491 - val_loss: 0.0321\n",
      "Epoch 9/15\n",
      "1724/1724 [==============================] - 3s 2ms/step - loss: 0.0515 - val_loss: 0.0242\n",
      "Epoch 10/15\n",
      "1724/1724 [==============================] - 3s 2ms/step - loss: 0.0367 - val_loss: 0.0263\n",
      "Epoch 11/15\n",
      "1724/1724 [==============================] - 3s 2ms/step - loss: 0.0684 - val_loss: 0.0195\n",
      "Epoch 12/15\n",
      "1724/1724 [==============================] - 3s 2ms/step - loss: 0.0527 - val_loss: 0.0229\n",
      "Epoch 13/15\n",
      "1724/1724 [==============================] - 3s 2ms/step - loss: 0.0400 - val_loss: 0.0182\n",
      "Epoch 14/15\n",
      "1724/1724 [==============================] - 3s 2ms/step - loss: 0.0683 - val_loss: 0.0209\n",
      "Epoch 15/15\n",
      "1724/1724 [==============================] - 3s 2ms/step - loss: 0.0419 - val_loss: 0.0246\n"
     ]
    }
   ],
   "source": [
    "net.compile(loss=cost_func, optimizer=optimizer)\n",
    "net.fit(x_train, y_train, validation_data = (x_val, y_val), epochs=15, batch_size=8)\n",
    "net.compile(loss=mean_squared_error, optimizer='sgd', metrics = ['accuracy'])\n",
    "net.save(cur_path + \"/\" + net.name + '.hdf5')"
   ]
  },
  {
   "cell_type": "code",
   "execution_count": 30,
   "metadata": {},
   "outputs": [],
   "source": [
    "def sigmoid(x):\n",
    "    return 1/(1+ np.exp(-x))"
   ]
  },
  {
   "cell_type": "code",
   "execution_count": 44,
   "metadata": {},
   "outputs": [],
   "source": [
    "x_test, y_test = load(cur_path + \"/CNN/Testing\")"
   ]
  },
  {
   "cell_type": "code",
   "execution_count": 45,
   "metadata": {},
   "outputs": [
    {
     "name": "stdout",
     "output_type": "stream",
     "text": [
      "(185, 128, 128, 3)\n",
      "(185,)\n"
     ]
    }
   ],
   "source": [
    "print(x_test.shape)\n",
    "print(y_test.shape)"
   ]
  },
  {
   "cell_type": "code",
   "execution_count": 140,
   "metadata": {},
   "outputs": [],
   "source": [
    "from keras.models import load_model\n",
    "model = load_model(cur_path + \"/TreeColor.hdf5\")"
   ]
  },
  {
   "cell_type": "code",
   "execution_count": 149,
   "metadata": {},
   "outputs": [],
   "source": [
    "y_pred = model.predict(x_test)\n",
    "y_pred = sigmoid(y_pred)\n",
    "\n",
    "TP = 0\n",
    "TN = 0\n",
    "FP = 0\n",
    "FN = 0\n",
    "\n",
    "size = y_pred.size\n",
    "for i in range(0, size):\n",
    "    if y_pred[i] > 0.9:\n",
    "        if y_test[i] == 1:\n",
    "            TP +=1\n",
    "        else:\n",
    "            FP +=1\n",
    "    else:\n",
    "        if y_test[i] == 1:\n",
    "            FN +=1\n",
    "        else:\n",
    "            TN +=1"
   ]
  },
  {
   "cell_type": "code",
   "execution_count": 150,
   "metadata": {},
   "outputs": [
    {
     "name": "stdout",
     "output_type": "stream",
     "text": [
      "85\n",
      "98\n",
      "0\n",
      "2\n"
     ]
    }
   ],
   "source": [
    "print(TP)\n",
    "print(TN)\n",
    "print(FP)\n",
    "print(FN)"
   ]
  },
  {
   "cell_type": "code",
   "execution_count": null,
   "metadata": {},
   "outputs": [],
   "source": []
  }
 ],
 "metadata": {
  "kernelspec": {
   "display_name": "Python 3",
   "language": "python",
   "name": "python3"
  },
  "language_info": {
   "codemirror_mode": {
    "name": "ipython",
    "version": 3
   },
   "file_extension": ".py",
   "mimetype": "text/x-python",
   "name": "python",
   "nbconvert_exporter": "python",
   "pygments_lexer": "ipython3",
   "version": "3.7.7"
  }
 },
 "nbformat": 4,
 "nbformat_minor": 2
}
